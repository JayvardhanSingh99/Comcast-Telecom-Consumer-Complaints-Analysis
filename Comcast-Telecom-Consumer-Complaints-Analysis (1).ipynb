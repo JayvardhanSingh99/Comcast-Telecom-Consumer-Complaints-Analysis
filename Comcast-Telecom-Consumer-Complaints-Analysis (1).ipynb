{
 "cells": [
  {
   "cell_type": "markdown",
   "id": "65c7fa23",
   "metadata": {},
   "source": [
    "# Comcast Telecom Consumer Complaints Project"
   ]
  },
  {
   "cell_type": "markdown",
   "id": "d99c304e",
   "metadata": {},
   "source": [
    "**1.Import the required libraries**"
   ]
  },
  {
   "cell_type": "code",
   "execution_count": 163,
   "id": "47a77ff5",
   "metadata": {},
   "outputs": [],
   "source": [
    "import pandas as pd\n",
    "import numpy as np\n",
    "import seaborn as sns\n",
    "import matplotlib.pyplot as plt\n",
    "from matplotlib import style\n",
    "%matplotlib inline\n",
    "from bs4 import BeautifulSoup\n",
    "import datetime\n",
    "from datetime import date"
   ]
  },
  {
   "cell_type": "markdown",
   "id": "69f62a14",
   "metadata": {},
   "source": [
    "**2. Load the data from the csv file**"
   ]
  },
  {
   "cell_type": "code",
   "execution_count": 164,
   "id": "525c624b",
   "metadata": {},
   "outputs": [],
   "source": [
    "df = pd.read_csv(\"Comcast_telecom_complaints_data.csv\")"
   ]
  },
  {
   "cell_type": "code",
   "execution_count": 165,
   "id": "8018f541",
   "metadata": {},
   "outputs": [
    {
     "data": {
      "text/html": [
       "<div>\n",
       "<style scoped>\n",
       "    .dataframe tbody tr th:only-of-type {\n",
       "        vertical-align: middle;\n",
       "    }\n",
       "\n",
       "    .dataframe tbody tr th {\n",
       "        vertical-align: top;\n",
       "    }\n",
       "\n",
       "    .dataframe thead th {\n",
       "        text-align: right;\n",
       "    }\n",
       "</style>\n",
       "<table border=\"1\" class=\"dataframe\">\n",
       "  <thead>\n",
       "    <tr style=\"text-align: right;\">\n",
       "      <th></th>\n",
       "      <th>Ticket #</th>\n",
       "      <th>Customer Complaint</th>\n",
       "      <th>Date</th>\n",
       "      <th>Date_month_year</th>\n",
       "      <th>Time</th>\n",
       "      <th>Received Via</th>\n",
       "      <th>City</th>\n",
       "      <th>State</th>\n",
       "      <th>Zip code</th>\n",
       "      <th>Status</th>\n",
       "      <th>Filing on Behalf of Someone</th>\n",
       "    </tr>\n",
       "  </thead>\n",
       "  <tbody>\n",
       "    <tr>\n",
       "      <th>0</th>\n",
       "      <td>250635</td>\n",
       "      <td>Comcast Cable Internet Speeds</td>\n",
       "      <td>22-04-15</td>\n",
       "      <td>22-Apr-15</td>\n",
       "      <td>3:53:50 PM</td>\n",
       "      <td>Customer Care Call</td>\n",
       "      <td>Abingdon</td>\n",
       "      <td>Maryland</td>\n",
       "      <td>21009</td>\n",
       "      <td>Closed</td>\n",
       "      <td>No</td>\n",
       "    </tr>\n",
       "    <tr>\n",
       "      <th>1</th>\n",
       "      <td>223441</td>\n",
       "      <td>Payment disappear - service got disconnected</td>\n",
       "      <td>04-08-15</td>\n",
       "      <td>04-Aug-15</td>\n",
       "      <td>10:22:56 AM</td>\n",
       "      <td>Internet</td>\n",
       "      <td>Acworth</td>\n",
       "      <td>Georgia</td>\n",
       "      <td>30102</td>\n",
       "      <td>Closed</td>\n",
       "      <td>No</td>\n",
       "    </tr>\n",
       "    <tr>\n",
       "      <th>2</th>\n",
       "      <td>242732</td>\n",
       "      <td>Speed and Service</td>\n",
       "      <td>18-04-15</td>\n",
       "      <td>18-Apr-15</td>\n",
       "      <td>9:55:47 AM</td>\n",
       "      <td>Internet</td>\n",
       "      <td>Acworth</td>\n",
       "      <td>Georgia</td>\n",
       "      <td>30101</td>\n",
       "      <td>Closed</td>\n",
       "      <td>Yes</td>\n",
       "    </tr>\n",
       "    <tr>\n",
       "      <th>3</th>\n",
       "      <td>277946</td>\n",
       "      <td>Comcast Imposed a New Usage Cap of 300GB that ...</td>\n",
       "      <td>05-07-15</td>\n",
       "      <td>05-Jul-15</td>\n",
       "      <td>11:59:35 AM</td>\n",
       "      <td>Internet</td>\n",
       "      <td>Acworth</td>\n",
       "      <td>Georgia</td>\n",
       "      <td>30101</td>\n",
       "      <td>Open</td>\n",
       "      <td>Yes</td>\n",
       "    </tr>\n",
       "    <tr>\n",
       "      <th>4</th>\n",
       "      <td>307175</td>\n",
       "      <td>Comcast not working and no service to boot</td>\n",
       "      <td>26-05-15</td>\n",
       "      <td>26-May-15</td>\n",
       "      <td>1:25:26 PM</td>\n",
       "      <td>Internet</td>\n",
       "      <td>Acworth</td>\n",
       "      <td>Georgia</td>\n",
       "      <td>30101</td>\n",
       "      <td>Solved</td>\n",
       "      <td>No</td>\n",
       "    </tr>\n",
       "  </tbody>\n",
       "</table>\n",
       "</div>"
      ],
      "text/plain": [
       "  Ticket #                                 Customer Complaint      Date  \\\n",
       "0   250635                      Comcast Cable Internet Speeds  22-04-15   \n",
       "1   223441       Payment disappear - service got disconnected  04-08-15   \n",
       "2   242732                                  Speed and Service  18-04-15   \n",
       "3   277946  Comcast Imposed a New Usage Cap of 300GB that ...  05-07-15   \n",
       "4   307175         Comcast not working and no service to boot  26-05-15   \n",
       "\n",
       "  Date_month_year         Time        Received Via      City     State  \\\n",
       "0       22-Apr-15   3:53:50 PM  Customer Care Call  Abingdon  Maryland   \n",
       "1       04-Aug-15  10:22:56 AM            Internet   Acworth   Georgia   \n",
       "2       18-Apr-15   9:55:47 AM            Internet   Acworth   Georgia   \n",
       "3       05-Jul-15  11:59:35 AM            Internet   Acworth   Georgia   \n",
       "4       26-May-15   1:25:26 PM            Internet   Acworth   Georgia   \n",
       "\n",
       "   Zip code  Status Filing on Behalf of Someone  \n",
       "0     21009  Closed                          No  \n",
       "1     30102  Closed                          No  \n",
       "2     30101  Closed                         Yes  \n",
       "3     30101    Open                         Yes  \n",
       "4     30101  Solved                          No  "
      ]
     },
     "execution_count": 165,
     "metadata": {},
     "output_type": "execute_result"
    }
   ],
   "source": [
    "df.head()"
   ]
  },
  {
   "cell_type": "code",
   "execution_count": 166,
   "id": "1c6a07d7",
   "metadata": {},
   "outputs": [
    {
     "data": {
      "text/plain": [
       "Index(['Ticket #', 'Customer Complaint', 'Date', 'Date_month_year', 'Time',\n",
       "       'Received Via', 'City', 'State', 'Zip code', 'Status',\n",
       "       'Filing on Behalf of Someone'],\n",
       "      dtype='object')"
      ]
     },
     "execution_count": 166,
     "metadata": {},
     "output_type": "execute_result"
    }
   ],
   "source": [
    "# Review all the columns in the dataset\n",
    "df.columns"
   ]
  },
  {
   "cell_type": "code",
   "execution_count": 167,
   "id": "03c22d59",
   "metadata": {},
   "outputs": [],
   "source": [
    "# Change the column name Ticket # to Ticket_No\n",
    "df = df.rename(columns={'Ticket #': 'Ticket_No'}) "
   ]
  },
  {
   "cell_type": "code",
   "execution_count": 168,
   "id": "cb859ad7",
   "metadata": {},
   "outputs": [
    {
     "data": {
      "text/html": [
       "<div>\n",
       "<style scoped>\n",
       "    .dataframe tbody tr th:only-of-type {\n",
       "        vertical-align: middle;\n",
       "    }\n",
       "\n",
       "    .dataframe tbody tr th {\n",
       "        vertical-align: top;\n",
       "    }\n",
       "\n",
       "    .dataframe thead th {\n",
       "        text-align: right;\n",
       "    }\n",
       "</style>\n",
       "<table border=\"1\" class=\"dataframe\">\n",
       "  <thead>\n",
       "    <tr style=\"text-align: right;\">\n",
       "      <th></th>\n",
       "      <th>Ticket_No</th>\n",
       "      <th>Customer Complaint</th>\n",
       "      <th>Date</th>\n",
       "      <th>Date_month_year</th>\n",
       "      <th>Time</th>\n",
       "      <th>Received Via</th>\n",
       "      <th>City</th>\n",
       "      <th>State</th>\n",
       "      <th>Zip code</th>\n",
       "      <th>Status</th>\n",
       "      <th>Filing on Behalf of Someone</th>\n",
       "    </tr>\n",
       "  </thead>\n",
       "  <tbody>\n",
       "    <tr>\n",
       "      <th>0</th>\n",
       "      <td>250635</td>\n",
       "      <td>Comcast Cable Internet Speeds</td>\n",
       "      <td>22-04-15</td>\n",
       "      <td>22-Apr-15</td>\n",
       "      <td>3:53:50 PM</td>\n",
       "      <td>Customer Care Call</td>\n",
       "      <td>Abingdon</td>\n",
       "      <td>Maryland</td>\n",
       "      <td>21009</td>\n",
       "      <td>Closed</td>\n",
       "      <td>No</td>\n",
       "    </tr>\n",
       "    <tr>\n",
       "      <th>1</th>\n",
       "      <td>223441</td>\n",
       "      <td>Payment disappear - service got disconnected</td>\n",
       "      <td>04-08-15</td>\n",
       "      <td>04-Aug-15</td>\n",
       "      <td>10:22:56 AM</td>\n",
       "      <td>Internet</td>\n",
       "      <td>Acworth</td>\n",
       "      <td>Georgia</td>\n",
       "      <td>30102</td>\n",
       "      <td>Closed</td>\n",
       "      <td>No</td>\n",
       "    </tr>\n",
       "    <tr>\n",
       "      <th>2</th>\n",
       "      <td>242732</td>\n",
       "      <td>Speed and Service</td>\n",
       "      <td>18-04-15</td>\n",
       "      <td>18-Apr-15</td>\n",
       "      <td>9:55:47 AM</td>\n",
       "      <td>Internet</td>\n",
       "      <td>Acworth</td>\n",
       "      <td>Georgia</td>\n",
       "      <td>30101</td>\n",
       "      <td>Closed</td>\n",
       "      <td>Yes</td>\n",
       "    </tr>\n",
       "    <tr>\n",
       "      <th>3</th>\n",
       "      <td>277946</td>\n",
       "      <td>Comcast Imposed a New Usage Cap of 300GB that ...</td>\n",
       "      <td>05-07-15</td>\n",
       "      <td>05-Jul-15</td>\n",
       "      <td>11:59:35 AM</td>\n",
       "      <td>Internet</td>\n",
       "      <td>Acworth</td>\n",
       "      <td>Georgia</td>\n",
       "      <td>30101</td>\n",
       "      <td>Open</td>\n",
       "      <td>Yes</td>\n",
       "    </tr>\n",
       "    <tr>\n",
       "      <th>4</th>\n",
       "      <td>307175</td>\n",
       "      <td>Comcast not working and no service to boot</td>\n",
       "      <td>26-05-15</td>\n",
       "      <td>26-May-15</td>\n",
       "      <td>1:25:26 PM</td>\n",
       "      <td>Internet</td>\n",
       "      <td>Acworth</td>\n",
       "      <td>Georgia</td>\n",
       "      <td>30101</td>\n",
       "      <td>Solved</td>\n",
       "      <td>No</td>\n",
       "    </tr>\n",
       "  </tbody>\n",
       "</table>\n",
       "</div>"
      ],
      "text/plain": [
       "  Ticket_No                                 Customer Complaint      Date  \\\n",
       "0    250635                      Comcast Cable Internet Speeds  22-04-15   \n",
       "1    223441       Payment disappear - service got disconnected  04-08-15   \n",
       "2    242732                                  Speed and Service  18-04-15   \n",
       "3    277946  Comcast Imposed a New Usage Cap of 300GB that ...  05-07-15   \n",
       "4    307175         Comcast not working and no service to boot  26-05-15   \n",
       "\n",
       "  Date_month_year         Time        Received Via      City     State  \\\n",
       "0       22-Apr-15   3:53:50 PM  Customer Care Call  Abingdon  Maryland   \n",
       "1       04-Aug-15  10:22:56 AM            Internet   Acworth   Georgia   \n",
       "2       18-Apr-15   9:55:47 AM            Internet   Acworth   Georgia   \n",
       "3       05-Jul-15  11:59:35 AM            Internet   Acworth   Georgia   \n",
       "4       26-May-15   1:25:26 PM            Internet   Acworth   Georgia   \n",
       "\n",
       "   Zip code  Status Filing on Behalf of Someone  \n",
       "0     21009  Closed                          No  \n",
       "1     30102  Closed                          No  \n",
       "2     30101  Closed                         Yes  \n",
       "3     30101    Open                         Yes  \n",
       "4     30101  Solved                          No  "
      ]
     },
     "execution_count": 168,
     "metadata": {},
     "output_type": "execute_result"
    }
   ],
   "source": [
    "df.head()"
   ]
  },
  {
   "cell_type": "markdown",
   "id": "8af59a03",
   "metadata": {},
   "source": [
    "**3. View the unique values in Status column and change status 'Open' & 'Pending' to be categorized as 'Open' and 'Closed' & 'Solved' to be categorized as 'Closed'**"
   ]
  },
  {
   "cell_type": "code",
   "execution_count": 169,
   "id": "7a933156",
   "metadata": {},
   "outputs": [
    {
     "data": {
      "text/plain": [
       "array(['Closed', 'Open', 'Solved', 'Pending'], dtype=object)"
      ]
     },
     "execution_count": 169,
     "metadata": {},
     "output_type": "execute_result"
    }
   ],
   "source": [
    "df.Status.unique()"
   ]
  },
  {
   "cell_type": "code",
   "execution_count": 170,
   "id": "f4a01f91",
   "metadata": {},
   "outputs": [],
   "source": [
    "df.Status.replace(('Closed', 'Open', 'Solved', 'Pending'),('Closed', 'Open','Closed', 'Open'),inplace=True)"
   ]
  },
  {
   "cell_type": "code",
   "execution_count": 171,
   "id": "4d5fbd06",
   "metadata": {},
   "outputs": [
    {
     "data": {
      "text/plain": [
       "array(['Closed', 'Open'], dtype=object)"
      ]
     },
     "execution_count": 171,
     "metadata": {},
     "output_type": "execute_result"
    }
   ],
   "source": [
    "df.Status.unique()"
   ]
  },
  {
   "cell_type": "code",
   "execution_count": 172,
   "id": "388ddca2",
   "metadata": {},
   "outputs": [
    {
     "data": {
      "text/plain": [
       "array(['Comcast Cable Internet Speeds',\n",
       "       'Payment disappear - service got disconnected',\n",
       "       'Speed and Service', ..., 'complaint about comcast',\n",
       "       'Extremely unsatisfied Comcast customer',\n",
       "       'Comcast, Ypsilanti MI Internet Speed'], dtype=object)"
      ]
     },
     "execution_count": 172,
     "metadata": {},
     "output_type": "execute_result"
    }
   ],
   "source": [
    "df['Customer Complaint'].unique()"
   ]
  },
  {
   "cell_type": "code",
   "execution_count": 173,
   "id": "194f97ea",
   "metadata": {},
   "outputs": [
    {
     "data": {
      "text/plain": [
       "Index(['Ticket_No', 'Customer Complaint', 'Date', 'Date_month_year', 'Time',\n",
       "       'Received Via', 'City', 'State', 'Zip code', 'Status',\n",
       "       'Filing on Behalf of Someone'],\n",
       "      dtype='object')"
      ]
     },
     "execution_count": 173,
     "metadata": {},
     "output_type": "execute_result"
    }
   ],
   "source": [
    "df.columns"
   ]
  },
  {
   "cell_type": "markdown",
   "id": "0b018983",
   "metadata": {},
   "source": [
    "**4. Check all the columns to see if there any null value**"
   ]
  },
  {
   "cell_type": "code",
   "execution_count": 174,
   "id": "c83f1899",
   "metadata": {},
   "outputs": [
    {
     "data": {
      "text/plain": [
       "Ticket_No                      0\n",
       "Customer Complaint             0\n",
       "Date                           0\n",
       "Date_month_year                0\n",
       "Time                           0\n",
       "Received Via                   0\n",
       "City                           0\n",
       "State                          0\n",
       "Zip code                       0\n",
       "Status                         0\n",
       "Filing on Behalf of Someone    0\n",
       "dtype: int64"
      ]
     },
     "execution_count": 174,
     "metadata": {},
     "output_type": "execute_result"
    }
   ],
   "source": [
    "df.isnull().sum().sort_values(ascending=False)"
   ]
  },
  {
   "cell_type": "markdown",
   "id": "cbfdf350",
   "metadata": {},
   "source": [
    "No Null values found in any column"
   ]
  },
  {
   "cell_type": "code",
   "execution_count": 175,
   "id": "71ea49f8",
   "metadata": {},
   "outputs": [
    {
     "data": {
      "text/plain": [
       "Ticket_No                      object\n",
       "Customer Complaint             object\n",
       "Date                           object\n",
       "Date_month_year                object\n",
       "Time                           object\n",
       "Received Via                   object\n",
       "City                           object\n",
       "State                          object\n",
       "Zip code                        int64\n",
       "Status                         object\n",
       "Filing on Behalf of Someone    object\n",
       "dtype: object"
      ]
     },
     "execution_count": 175,
     "metadata": {},
     "output_type": "execute_result"
    }
   ],
   "source": [
    "df.dtypes"
   ]
  },
  {
   "cell_type": "markdown",
   "id": "b5e8fdd1",
   "metadata": {},
   "source": [
    "**5. Add Date Month year with Time and save it into df_index column**"
   ]
  },
  {
   "cell_type": "code",
   "execution_count": 176,
   "id": "7bb91b4a",
   "metadata": {},
   "outputs": [],
   "source": [
    "df['df_index'] = df['Date_month_year'] + ' ' + df['Time']"
   ]
  },
  {
   "cell_type": "code",
   "execution_count": 177,
   "id": "8088028e",
   "metadata": {},
   "outputs": [
    {
     "data": {
      "text/plain": [
       "0        22-Apr-15 3:53:50 PM\n",
       "1       04-Aug-15 10:22:56 AM\n",
       "2        18-Apr-15 9:55:47 AM\n",
       "3       05-Jul-15 11:59:35 AM\n",
       "4        26-May-15 1:25:26 PM\n",
       "                ...          \n",
       "2219     04-Feb-15 9:13:18 AM\n",
       "2220     06-Feb-15 1:24:39 PM\n",
       "2221     06-Sep-15 5:28:41 PM\n",
       "2222    23-Jun-15 11:13:30 PM\n",
       "2223    24-Jun-15 10:28:33 PM\n",
       "Name: df_index, Length: 2224, dtype: object"
      ]
     },
     "execution_count": 177,
     "metadata": {},
     "output_type": "execute_result"
    }
   ],
   "source": [
    "df['df_index']"
   ]
  },
  {
   "cell_type": "code",
   "execution_count": 178,
   "id": "6e99ec9a",
   "metadata": {},
   "outputs": [],
   "source": [
    "#Convert Date_index and Date_month_year to Datetime Format\n",
    "df['df_index'] = pd.to_datetime(df['df_index'])\n",
    "df['Date_month_year'] = pd.to_datetime(df['Date_month_year'])\n",
    "\n",
    "#Set df_index as index to dataset in dataframe df_monthly\n",
    "df_monthly = df.set_index(df['df_index'])"
   ]
  },
  {
   "cell_type": "code",
   "execution_count": 179,
   "id": "f26d2343",
   "metadata": {},
   "outputs": [
    {
     "data": {
      "text/plain": [
       "0      2015-04-22\n",
       "1      2015-08-04\n",
       "2      2015-04-18\n",
       "3      2015-07-05\n",
       "4      2015-05-26\n",
       "          ...    \n",
       "2219   2015-02-04\n",
       "2220   2015-02-06\n",
       "2221   2015-09-06\n",
       "2222   2015-06-23\n",
       "2223   2015-06-24\n",
       "Name: Date_month_year, Length: 2224, dtype: datetime64[ns]"
      ]
     },
     "execution_count": 179,
     "metadata": {},
     "output_type": "execute_result"
    }
   ],
   "source": [
    "df['Date_month_year']"
   ]
  },
  {
   "cell_type": "code",
   "execution_count": 180,
   "id": "b06422ce",
   "metadata": {},
   "outputs": [
    {
     "data": {
      "text/plain": [
       "0      2015-04-22 15:53:50\n",
       "1      2015-08-04 10:22:56\n",
       "2      2015-04-18 09:55:47\n",
       "3      2015-07-05 11:59:35\n",
       "4      2015-05-26 13:25:26\n",
       "               ...        \n",
       "2219   2015-02-04 09:13:18\n",
       "2220   2015-02-06 13:24:39\n",
       "2221   2015-09-06 17:28:41\n",
       "2222   2015-06-23 23:13:30\n",
       "2223   2015-06-24 22:28:33\n",
       "Name: df_index, Length: 2224, dtype: datetime64[ns]"
      ]
     },
     "execution_count": 180,
     "metadata": {},
     "output_type": "execute_result"
    }
   ],
   "source": [
    "df['df_index']"
   ]
  },
  {
   "cell_type": "code",
   "execution_count": 181,
   "id": "fccca7b8",
   "metadata": {},
   "outputs": [
    {
     "data": {
      "text/html": [
       "<div>\n",
       "<style scoped>\n",
       "    .dataframe tbody tr th:only-of-type {\n",
       "        vertical-align: middle;\n",
       "    }\n",
       "\n",
       "    .dataframe tbody tr th {\n",
       "        vertical-align: top;\n",
       "    }\n",
       "\n",
       "    .dataframe thead th {\n",
       "        text-align: right;\n",
       "    }\n",
       "</style>\n",
       "<table border=\"1\" class=\"dataframe\">\n",
       "  <thead>\n",
       "    <tr style=\"text-align: right;\">\n",
       "      <th></th>\n",
       "      <th>Ticket_No</th>\n",
       "      <th>Customer Complaint</th>\n",
       "      <th>Date</th>\n",
       "      <th>Date_month_year</th>\n",
       "      <th>Time</th>\n",
       "      <th>Received Via</th>\n",
       "      <th>City</th>\n",
       "      <th>State</th>\n",
       "      <th>Zip code</th>\n",
       "      <th>Status</th>\n",
       "      <th>Filing on Behalf of Someone</th>\n",
       "      <th>df_index</th>\n",
       "    </tr>\n",
       "    <tr>\n",
       "      <th>df_index</th>\n",
       "      <th></th>\n",
       "      <th></th>\n",
       "      <th></th>\n",
       "      <th></th>\n",
       "      <th></th>\n",
       "      <th></th>\n",
       "      <th></th>\n",
       "      <th></th>\n",
       "      <th></th>\n",
       "      <th></th>\n",
       "      <th></th>\n",
       "      <th></th>\n",
       "    </tr>\n",
       "  </thead>\n",
       "  <tbody>\n",
       "    <tr>\n",
       "      <th>2015-04-22 15:53:50</th>\n",
       "      <td>250635</td>\n",
       "      <td>Comcast Cable Internet Speeds</td>\n",
       "      <td>22-04-15</td>\n",
       "      <td>2015-04-22</td>\n",
       "      <td>3:53:50 PM</td>\n",
       "      <td>Customer Care Call</td>\n",
       "      <td>Abingdon</td>\n",
       "      <td>Maryland</td>\n",
       "      <td>21009</td>\n",
       "      <td>Closed</td>\n",
       "      <td>No</td>\n",
       "      <td>2015-04-22 15:53:50</td>\n",
       "    </tr>\n",
       "    <tr>\n",
       "      <th>2015-08-04 10:22:56</th>\n",
       "      <td>223441</td>\n",
       "      <td>Payment disappear - service got disconnected</td>\n",
       "      <td>04-08-15</td>\n",
       "      <td>2015-08-04</td>\n",
       "      <td>10:22:56 AM</td>\n",
       "      <td>Internet</td>\n",
       "      <td>Acworth</td>\n",
       "      <td>Georgia</td>\n",
       "      <td>30102</td>\n",
       "      <td>Closed</td>\n",
       "      <td>No</td>\n",
       "      <td>2015-08-04 10:22:56</td>\n",
       "    </tr>\n",
       "    <tr>\n",
       "      <th>2015-04-18 09:55:47</th>\n",
       "      <td>242732</td>\n",
       "      <td>Speed and Service</td>\n",
       "      <td>18-04-15</td>\n",
       "      <td>2015-04-18</td>\n",
       "      <td>9:55:47 AM</td>\n",
       "      <td>Internet</td>\n",
       "      <td>Acworth</td>\n",
       "      <td>Georgia</td>\n",
       "      <td>30101</td>\n",
       "      <td>Closed</td>\n",
       "      <td>Yes</td>\n",
       "      <td>2015-04-18 09:55:47</td>\n",
       "    </tr>\n",
       "    <tr>\n",
       "      <th>2015-07-05 11:59:35</th>\n",
       "      <td>277946</td>\n",
       "      <td>Comcast Imposed a New Usage Cap of 300GB that ...</td>\n",
       "      <td>05-07-15</td>\n",
       "      <td>2015-07-05</td>\n",
       "      <td>11:59:35 AM</td>\n",
       "      <td>Internet</td>\n",
       "      <td>Acworth</td>\n",
       "      <td>Georgia</td>\n",
       "      <td>30101</td>\n",
       "      <td>Open</td>\n",
       "      <td>Yes</td>\n",
       "      <td>2015-07-05 11:59:35</td>\n",
       "    </tr>\n",
       "    <tr>\n",
       "      <th>2015-05-26 13:25:26</th>\n",
       "      <td>307175</td>\n",
       "      <td>Comcast not working and no service to boot</td>\n",
       "      <td>26-05-15</td>\n",
       "      <td>2015-05-26</td>\n",
       "      <td>1:25:26 PM</td>\n",
       "      <td>Internet</td>\n",
       "      <td>Acworth</td>\n",
       "      <td>Georgia</td>\n",
       "      <td>30101</td>\n",
       "      <td>Closed</td>\n",
       "      <td>No</td>\n",
       "      <td>2015-05-26 13:25:26</td>\n",
       "    </tr>\n",
       "  </tbody>\n",
       "</table>\n",
       "</div>"
      ],
      "text/plain": [
       "                    Ticket_No  \\\n",
       "df_index                        \n",
       "2015-04-22 15:53:50    250635   \n",
       "2015-08-04 10:22:56    223441   \n",
       "2015-04-18 09:55:47    242732   \n",
       "2015-07-05 11:59:35    277946   \n",
       "2015-05-26 13:25:26    307175   \n",
       "\n",
       "                                                    Customer Complaint  \\\n",
       "df_index                                                                 \n",
       "2015-04-22 15:53:50                      Comcast Cable Internet Speeds   \n",
       "2015-08-04 10:22:56       Payment disappear - service got disconnected   \n",
       "2015-04-18 09:55:47                                  Speed and Service   \n",
       "2015-07-05 11:59:35  Comcast Imposed a New Usage Cap of 300GB that ...   \n",
       "2015-05-26 13:25:26         Comcast not working and no service to boot   \n",
       "\n",
       "                         Date Date_month_year         Time  \\\n",
       "df_index                                                     \n",
       "2015-04-22 15:53:50  22-04-15      2015-04-22   3:53:50 PM   \n",
       "2015-08-04 10:22:56  04-08-15      2015-08-04  10:22:56 AM   \n",
       "2015-04-18 09:55:47  18-04-15      2015-04-18   9:55:47 AM   \n",
       "2015-07-05 11:59:35  05-07-15      2015-07-05  11:59:35 AM   \n",
       "2015-05-26 13:25:26  26-05-15      2015-05-26   1:25:26 PM   \n",
       "\n",
       "                           Received Via      City     State  Zip code  Status  \\\n",
       "df_index                                                                        \n",
       "2015-04-22 15:53:50  Customer Care Call  Abingdon  Maryland     21009  Closed   \n",
       "2015-08-04 10:22:56            Internet   Acworth   Georgia     30102  Closed   \n",
       "2015-04-18 09:55:47            Internet   Acworth   Georgia     30101  Closed   \n",
       "2015-07-05 11:59:35            Internet   Acworth   Georgia     30101    Open   \n",
       "2015-05-26 13:25:26            Internet   Acworth   Georgia     30101  Closed   \n",
       "\n",
       "                    Filing on Behalf of Someone            df_index  \n",
       "df_index                                                             \n",
       "2015-04-22 15:53:50                          No 2015-04-22 15:53:50  \n",
       "2015-08-04 10:22:56                          No 2015-08-04 10:22:56  \n",
       "2015-04-18 09:55:47                         Yes 2015-04-18 09:55:47  \n",
       "2015-07-05 11:59:35                         Yes 2015-07-05 11:59:35  \n",
       "2015-05-26 13:25:26                          No 2015-05-26 13:25:26  "
      ]
     },
     "execution_count": 181,
     "metadata": {},
     "output_type": "execute_result"
    }
   ],
   "source": [
    "df_monthly.head()"
   ]
  },
  {
   "cell_type": "markdown",
   "id": "31f580c6",
   "metadata": {},
   "source": [
    "**6. Group tickets my monthly and plot trend chart for the number of complaints at monthly and daily granularity levels**"
   ]
  },
  {
   "cell_type": "code",
   "execution_count": 182,
   "id": "c293b60a",
   "metadata": {},
   "outputs": [],
   "source": [
    "df_monthly_tickets = df_monthly.groupby(pd.Grouper(freq='M')).count()"
   ]
  },
  {
   "cell_type": "code",
   "execution_count": 183,
   "id": "db81a3bf",
   "metadata": {},
   "outputs": [
    {
     "data": {
      "text/plain": [
       "Text(0, 0.5, 'No. of Tickets')"
      ]
     },
     "execution_count": 183,
     "metadata": {},
     "output_type": "execute_result"
    },
    {
     "data": {
      "image/png": "[encoded data removed]",
      "text/plain": [
       "<Figure size 432x288 with 1 Axes>"
      ]
     },
     "metadata": {
      "needs_background": "light"
     },
     "output_type": "display_data"
    }
   ],
   "source": [
    "df_monthly_tickets.Ticket_No.plot()\n",
    "plt.xlabel('Months')\n",
    "plt.ylabel('No. of Tickets')"
   ]
  },
  {
   "cell_type": "code",
   "execution_count": 184,
   "id": "88fd7720",
   "metadata": {},
   "outputs": [],
   "source": [
    "df['Day of Month'] = pd.to_datetime(df['Date'])\n",
    "df_daily = df.set_index(df[\"Day of Month\"])\n",
    "df_daily_tickets = df_daily.groupby(pd.Grouper(freq='D')).count()"
   ]
  },
  {
   "cell_type": "code",
   "execution_count": 185,
   "id": "25ee0cf8",
   "metadata": {},
   "outputs": [
    {
     "data": {
      "text/plain": [
       "Text(0, 0.5, 'No. of Tickets')"
      ]
     },
     "execution_count": 185,
     "metadata": {},
     "output_type": "execute_result"
    },
    {
     "data": {
      "image/png": "[encoded data removed]",
      "text/plain": [
       "<Figure size 1008x432 with 1 Axes>"
      ]
     },
     "metadata": {
      "needs_background": "light"
     },
     "output_type": "display_data"
    }
   ],
   "source": [
    "plt.figure(figsize=(14,6))\n",
    "df_daily_tickets.Ticket_No.plot()\n",
    "plt.xlabel('Days')\n",
    "plt.ylabel('No. of Tickets')"
   ]
  },
  {
   "cell_type": "markdown",
   "id": "25150f65",
   "metadata": {},
   "source": [
    "**7. Plot state wise status of complaints in a stacked bar chart for Q3**"
   ]
  },
  {
   "cell_type": "code",
   "execution_count": 186,
   "id": "3191722f",
   "metadata": {},
   "outputs": [],
   "source": [
    "df_Q3 = df_monthly[(df_monthly['Date_month_year']> '2015-06-30')& (df_monthly['Date_month_year'] <'2015-10-01')]"
   ]
  },
  {
   "cell_type": "code",
   "execution_count": 187,
   "id": "804fcaa6",
   "metadata": {},
   "outputs": [
    {
     "data": {
      "text/html": [
       "<div>\n",
       "<style scoped>\n",
       "    .dataframe tbody tr th:only-of-type {\n",
       "        vertical-align: middle;\n",
       "    }\n",
       "\n",
       "    .dataframe tbody tr th {\n",
       "        vertical-align: top;\n",
       "    }\n",
       "\n",
       "    .dataframe thead th {\n",
       "        text-align: right;\n",
       "    }\n",
       "</style>\n",
       "<table border=\"1\" class=\"dataframe\">\n",
       "  <thead>\n",
       "    <tr style=\"text-align: right;\">\n",
       "      <th></th>\n",
       "      <th>Ticket_No</th>\n",
       "      <th>Customer Complaint</th>\n",
       "      <th>Date</th>\n",
       "      <th>Date_month_year</th>\n",
       "      <th>Time</th>\n",
       "      <th>Received Via</th>\n",
       "      <th>City</th>\n",
       "      <th>State</th>\n",
       "      <th>Zip code</th>\n",
       "      <th>Status</th>\n",
       "      <th>Filing on Behalf of Someone</th>\n",
       "      <th>df_index</th>\n",
       "    </tr>\n",
       "    <tr>\n",
       "      <th>df_index</th>\n",
       "      <th></th>\n",
       "      <th></th>\n",
       "      <th></th>\n",
       "      <th></th>\n",
       "      <th></th>\n",
       "      <th></th>\n",
       "      <th></th>\n",
       "      <th></th>\n",
       "      <th></th>\n",
       "      <th></th>\n",
       "      <th></th>\n",
       "      <th></th>\n",
       "    </tr>\n",
       "  </thead>\n",
       "  <tbody>\n",
       "    <tr>\n",
       "      <th>2015-08-04 10:22:56</th>\n",
       "      <td>223441</td>\n",
       "      <td>Payment disappear - service got disconnected</td>\n",
       "      <td>04-08-15</td>\n",
       "      <td>2015-08-04</td>\n",
       "      <td>10:22:56 AM</td>\n",
       "      <td>Internet</td>\n",
       "      <td>Acworth</td>\n",
       "      <td>Georgia</td>\n",
       "      <td>30102</td>\n",
       "      <td>Closed</td>\n",
       "      <td>No</td>\n",
       "      <td>2015-08-04 10:22:56</td>\n",
       "    </tr>\n",
       "    <tr>\n",
       "      <th>2015-07-05 11:59:35</th>\n",
       "      <td>277946</td>\n",
       "      <td>Comcast Imposed a New Usage Cap of 300GB that ...</td>\n",
       "      <td>05-07-15</td>\n",
       "      <td>2015-07-05</td>\n",
       "      <td>11:59:35 AM</td>\n",
       "      <td>Internet</td>\n",
       "      <td>Acworth</td>\n",
       "      <td>Georgia</td>\n",
       "      <td>30101</td>\n",
       "      <td>Open</td>\n",
       "      <td>Yes</td>\n",
       "      <td>2015-07-05 11:59:35</td>\n",
       "    </tr>\n",
       "    <tr>\n",
       "      <th>2015-07-06 20:55:43</th>\n",
       "      <td>327657</td>\n",
       "      <td>Internet out all the time but they have a mono...</td>\n",
       "      <td>06-07-15</td>\n",
       "      <td>2015-07-06</td>\n",
       "      <td>8:55:43 PM</td>\n",
       "      <td>Customer Care Call</td>\n",
       "      <td>Alexandria</td>\n",
       "      <td>Virginia</td>\n",
       "      <td>22305</td>\n",
       "      <td>Closed</td>\n",
       "      <td>No</td>\n",
       "      <td>2015-07-06 20:55:43</td>\n",
       "    </tr>\n",
       "    <tr>\n",
       "      <th>2015-08-06 15:18:58</th>\n",
       "      <td>328742</td>\n",
       "      <td>horrible cable service and customer service</td>\n",
       "      <td>06-08-15</td>\n",
       "      <td>2015-08-06</td>\n",
       "      <td>3:18:58 PM</td>\n",
       "      <td>Internet</td>\n",
       "      <td>Alexandria</td>\n",
       "      <td>Virginia</td>\n",
       "      <td>22312</td>\n",
       "      <td>Closed</td>\n",
       "      <td>No</td>\n",
       "      <td>2015-08-06 15:18:58</td>\n",
       "    </tr>\n",
       "    <tr>\n",
       "      <th>2015-08-06 12:03:37</th>\n",
       "      <td>328165</td>\n",
       "      <td>Speed</td>\n",
       "      <td>06-08-15</td>\n",
       "      <td>2015-08-06</td>\n",
       "      <td>12:03:37 PM</td>\n",
       "      <td>Customer Care Call</td>\n",
       "      <td>Alexandria</td>\n",
       "      <td>Virginia</td>\n",
       "      <td>22304</td>\n",
       "      <td>Closed</td>\n",
       "      <td>No</td>\n",
       "      <td>2015-08-06 12:03:37</td>\n",
       "    </tr>\n",
       "    <tr>\n",
       "      <th>...</th>\n",
       "      <td>...</td>\n",
       "      <td>...</td>\n",
       "      <td>...</td>\n",
       "      <td>...</td>\n",
       "      <td>...</td>\n",
       "      <td>...</td>\n",
       "      <td>...</td>\n",
       "      <td>...</td>\n",
       "      <td>...</td>\n",
       "      <td>...</td>\n",
       "      <td>...</td>\n",
       "      <td>...</td>\n",
       "    </tr>\n",
       "    <tr>\n",
       "      <th>2015-07-04 18:57:54</th>\n",
       "      <td>222759</td>\n",
       "      <td>monopolistic billing practices</td>\n",
       "      <td>04-07-15</td>\n",
       "      <td>2015-07-04</td>\n",
       "      <td>6:57:54 PM</td>\n",
       "      <td>Customer Care Call</td>\n",
       "      <td>Winnetka</td>\n",
       "      <td>Illinois</td>\n",
       "      <td>60093</td>\n",
       "      <td>Closed</td>\n",
       "      <td>No</td>\n",
       "      <td>2015-07-04 18:57:54</td>\n",
       "    </tr>\n",
       "    <tr>\n",
       "      <th>2015-08-06 18:17:50</th>\n",
       "      <td>329247</td>\n",
       "      <td>Inconsistent and Intermittent Internet Connect...</td>\n",
       "      <td>06-08-15</td>\n",
       "      <td>2015-08-06</td>\n",
       "      <td>6:17:50 PM</td>\n",
       "      <td>Internet</td>\n",
       "      <td>Woodstock</td>\n",
       "      <td>Georgia</td>\n",
       "      <td>30188</td>\n",
       "      <td>Closed</td>\n",
       "      <td>No</td>\n",
       "      <td>2015-08-06 18:17:50</td>\n",
       "    </tr>\n",
       "    <tr>\n",
       "      <th>2015-07-05 21:47:36</th>\n",
       "      <td>279410</td>\n",
       "      <td>False Advertising/Bait and switch</td>\n",
       "      <td>05-07-15</td>\n",
       "      <td>2015-07-05</td>\n",
       "      <td>9:47:36 PM</td>\n",
       "      <td>Customer Care Call</td>\n",
       "      <td>Worth</td>\n",
       "      <td>Illinois</td>\n",
       "      <td>60482</td>\n",
       "      <td>Closed</td>\n",
       "      <td>No</td>\n",
       "      <td>2015-07-05 21:47:36</td>\n",
       "    </tr>\n",
       "    <tr>\n",
       "      <th>2015-07-04 13:49:52</th>\n",
       "      <td>221763</td>\n",
       "      <td>Comcast</td>\n",
       "      <td>04-07-15</td>\n",
       "      <td>2015-07-04</td>\n",
       "      <td>1:49:52 PM</td>\n",
       "      <td>Internet</td>\n",
       "      <td>Wyoming</td>\n",
       "      <td>Michigan</td>\n",
       "      <td>49509</td>\n",
       "      <td>Closed</td>\n",
       "      <td>No</td>\n",
       "      <td>2015-07-04 13:49:52</td>\n",
       "    </tr>\n",
       "    <tr>\n",
       "      <th>2015-09-06 17:28:41</th>\n",
       "      <td>331188</td>\n",
       "      <td>complaint about comcast</td>\n",
       "      <td>06-09-15</td>\n",
       "      <td>2015-09-06</td>\n",
       "      <td>5:28:41 PM</td>\n",
       "      <td>Internet</td>\n",
       "      <td>Ypsilanti</td>\n",
       "      <td>Michigan</td>\n",
       "      <td>48197</td>\n",
       "      <td>Closed</td>\n",
       "      <td>No</td>\n",
       "      <td>2015-09-06 17:28:41</td>\n",
       "    </tr>\n",
       "  </tbody>\n",
       "</table>\n",
       "<p>171 rows × 12 columns</p>\n",
       "</div>"
      ],
      "text/plain": [
       "                    Ticket_No  \\\n",
       "df_index                        \n",
       "2015-08-04 10:22:56    223441   \n",
       "2015-07-05 11:59:35    277946   \n",
       "2015-07-06 20:55:43    327657   \n",
       "2015-08-06 15:18:58    328742   \n",
       "2015-08-06 12:03:37    328165   \n",
       "...                       ...   \n",
       "2015-07-04 18:57:54    222759   \n",
       "2015-08-06 18:17:50    329247   \n",
       "2015-07-05 21:47:36    279410   \n",
       "2015-07-04 13:49:52    221763   \n",
       "2015-09-06 17:28:41    331188   \n",
       "\n",
       "                                                    Customer Complaint  \\\n",
       "df_index                                                                 \n",
       "2015-08-04 10:22:56       Payment disappear - service got disconnected   \n",
       "2015-07-05 11:59:35  Comcast Imposed a New Usage Cap of 300GB that ...   \n",
       "2015-07-06 20:55:43  Internet out all the time but they have a mono...   \n",
       "2015-08-06 15:18:58        horrible cable service and customer service   \n",
       "2015-08-06 12:03:37                                              Speed   \n",
       "...                                                                ...   \n",
       "2015-07-04 18:57:54                     monopolistic billing practices   \n",
       "2015-08-06 18:17:50  Inconsistent and Intermittent Internet Connect...   \n",
       "2015-07-05 21:47:36                  False Advertising/Bait and switch   \n",
       "2015-07-04 13:49:52                                            Comcast   \n",
       "2015-09-06 17:28:41                            complaint about comcast   \n",
       "\n",
       "                         Date Date_month_year         Time  \\\n",
       "df_index                                                     \n",
       "2015-08-04 10:22:56  04-08-15      2015-08-04  10:22:56 AM   \n",
       "2015-07-05 11:59:35  05-07-15      2015-07-05  11:59:35 AM   \n",
       "2015-07-06 20:55:43  06-07-15      2015-07-06   8:55:43 PM   \n",
       "2015-08-06 15:18:58  06-08-15      2015-08-06   3:18:58 PM   \n",
       "2015-08-06 12:03:37  06-08-15      2015-08-06  12:03:37 PM   \n",
       "...                       ...             ...          ...   \n",
       "2015-07-04 18:57:54  04-07-15      2015-07-04   6:57:54 PM   \n",
       "2015-08-06 18:17:50  06-08-15      2015-08-06   6:17:50 PM   \n",
       "2015-07-05 21:47:36  05-07-15      2015-07-05   9:47:36 PM   \n",
       "2015-07-04 13:49:52  04-07-15      2015-07-04   1:49:52 PM   \n",
       "2015-09-06 17:28:41  06-09-15      2015-09-06   5:28:41 PM   \n",
       "\n",
       "                           Received Via        City     State  Zip code  \\\n",
       "df_index                                                                  \n",
       "2015-08-04 10:22:56            Internet     Acworth   Georgia     30102   \n",
       "2015-07-05 11:59:35            Internet     Acworth   Georgia     30101   \n",
       "2015-07-06 20:55:43  Customer Care Call  Alexandria  Virginia     22305   \n",
       "2015-08-06 15:18:58            Internet  Alexandria  Virginia     22312   \n",
       "2015-08-06 12:03:37  Customer Care Call  Alexandria  Virginia     22304   \n",
       "...                                 ...         ...       ...       ...   \n",
       "2015-07-04 18:57:54  Customer Care Call    Winnetka  Illinois     60093   \n",
       "2015-08-06 18:17:50            Internet   Woodstock   Georgia     30188   \n",
       "2015-07-05 21:47:36  Customer Care Call       Worth  Illinois     60482   \n",
       "2015-07-04 13:49:52            Internet     Wyoming  Michigan     49509   \n",
       "2015-09-06 17:28:41            Internet   Ypsilanti  Michigan     48197   \n",
       "\n",
       "                     Status Filing on Behalf of Someone            df_index  \n",
       "df_index                                                                     \n",
       "2015-08-04 10:22:56  Closed                          No 2015-08-04 10:22:56  \n",
       "2015-07-05 11:59:35    Open                         Yes 2015-07-05 11:59:35  \n",
       "2015-07-06 20:55:43  Closed                          No 2015-07-06 20:55:43  \n",
       "2015-08-06 15:18:58  Closed                          No 2015-08-06 15:18:58  \n",
       "2015-08-06 12:03:37  Closed                          No 2015-08-06 12:03:37  \n",
       "...                     ...                         ...                 ...  \n",
       "2015-07-04 18:57:54  Closed                          No 2015-07-04 18:57:54  \n",
       "2015-08-06 18:17:50  Closed                          No 2015-08-06 18:17:50  \n",
       "2015-07-05 21:47:36  Closed                          No 2015-07-05 21:47:36  \n",
       "2015-07-04 13:49:52  Closed                          No 2015-07-04 13:49:52  \n",
       "2015-09-06 17:28:41  Closed                          No 2015-09-06 17:28:41  \n",
       "\n",
       "[171 rows x 12 columns]"
      ]
     },
     "execution_count": 187,
     "metadata": {},
     "output_type": "execute_result"
    }
   ],
   "source": [
    "df_Q3"
   ]
  },
  {
   "cell_type": "code",
   "execution_count": 188,
   "id": "35d462fd",
   "metadata": {},
   "outputs": [
    {
     "data": {
      "text/plain": [
       "<AxesSubplot:xlabel='count', ylabel='State'>"
      ]
     },
     "execution_count": 188,
     "metadata": {},
     "output_type": "execute_result"
    },
    {
     "data": {
      "image/png": "[encoded data removed]",
      "text/plain": [
       "<Figure size 1152x576 with 1 Axes>"
      ]
     },
     "metadata": {
      "needs_background": "light"
     },
     "output_type": "display_data"
    }
   ],
   "source": [
    "plt.figure(figsize=(16,8))\n",
    "sns.countplot (y='State',hue = \"Status\", data= df_Q3)"
   ]
  },
  {
   "cell_type": "markdown",
   "id": "20ab3b62",
   "metadata": {},
   "source": [
    "**8.Construct a table with the frequency of complaint types**"
   ]
  },
  {
   "cell_type": "code",
   "execution_count": 195,
   "id": "f660e0e1",
   "metadata": {},
   "outputs": [
    {
     "data": {
      "text/plain": [
       "Comcast                                          83\n",
       "Comcast Internet                                 18\n",
       "Comcast Data Cap                                 17\n",
       "comcast                                          13\n",
       "Comcast Billing                                  11\n",
       "                                                 ..\n",
       "Improper Billing and non resolution of issues     1\n",
       "Deceptive trade                                   1\n",
       "intermittent internet                             1\n",
       "Internet Speed on Wireless Connection             1\n",
       "Comcast, Ypsilanti MI Internet Speed              1\n",
       "Name: Customer Complaint, Length: 1841, dtype: int64"
      ]
     },
     "execution_count": 195,
     "metadata": {},
     "output_type": "execute_result"
    }
   ],
   "source": [
    "df_monthly['Customer Complaint'].value_counts()"
   ]
  },
  {
   "cell_type": "code",
   "execution_count": 198,
   "id": "ea234d29",
   "metadata": {},
   "outputs": [
    {
     "data": {
      "text/plain": [
       "COMCAST                                                            102\n",
       "COMCAST DATA CAP                                                    30\n",
       "COMCAST INTERNET                                                    29\n",
       "COMCAST DATA CAPS                                                   21\n",
       "COMCAST BILLING                                                     18\n",
       "                                                                  ... \n",
       "MONTHLY DATA CAPS                                                    1\n",
       "COMCAST/XFINITY POOR SERVICE, FRAUDULENT BILLING AND COLLECTION      1\n",
       "LOST EMAILS/BILLING                                                  1\n",
       "IMPROPER BILLING AND NON RESOLUTION OF ISSUES                        1\n",
       "COMCAST, YPSILANTI MI INTERNET SPEED                                 1\n",
       "Name: Customer Complaint, Length: 1740, dtype: int64"
      ]
     },
     "execution_count": 198,
     "metadata": {},
     "output_type": "execute_result"
    }
   ],
   "source": [
    "#  Convert all data into uper case or sentence case so duplicate value will shorted\n",
    "df['Customer Complaint'].str.upper().value_counts()"
   ]
  },
  {
   "cell_type": "markdown",
   "id": "87ad9c9b",
   "metadata": {},
   "source": [
    "**9. Get the list of state wise complaints and see which state has maximum complaints**"
   ]
  },
  {
   "cell_type": "code",
   "execution_count": 203,
   "id": "059e7748",
   "metadata": {},
   "outputs": [
    {
     "data": {
      "text/plain": [
       "State\n",
       "Alabama                  26\n",
       "Arizona                  20\n",
       "Arkansas                  6\n",
       "California              220\n",
       "Colorado                 80\n",
       "Connecticut              12\n",
       "Delaware                 12\n",
       "District Of Columbia     16\n",
       "District of Columbia      1\n",
       "Florida                 240\n",
       "Georgia                 288\n",
       "Illinois                164\n",
       "Indiana                  59\n",
       "Iowa                      1\n",
       "Kansas                    2\n",
       "Kentucky                  7\n",
       "Louisiana                13\n",
       "Maine                     5\n",
       "Maryland                 78\n",
       "Massachusetts            61\n",
       "Michigan                115\n",
       "Minnesota                33\n",
       "Mississippi              39\n",
       "Missouri                  4\n",
       "Montana                   1\n",
       "Nevada                    1\n",
       "New Hampshire            12\n",
       "New Jersey               75\n",
       "New Mexico               15\n",
       "New York                  6\n",
       "North Carolina            3\n",
       "Ohio                      3\n",
       "Oregon                   49\n",
       "Pennsylvania            130\n",
       "Rhode Island              1\n",
       "South Carolina           18\n",
       "Tennessee               143\n",
       "Texas                    71\n",
       "Utah                     22\n",
       "Vermont                   3\n",
       "Virginia                 60\n",
       "Washington               98\n",
       "West Virginia            11\n",
       "Name: Customer Complaint, dtype: int64"
      ]
     },
     "execution_count": 203,
     "metadata": {},
     "output_type": "execute_result"
    }
   ],
   "source": [
    "df_monthly.groupby('State')['Customer Complaint'].count()"
   ]
  },
  {
   "cell_type": "code",
   "execution_count": 204,
   "id": "391568db",
   "metadata": {},
   "outputs": [
    {
     "data": {
      "text/plain": [
       "288"
      ]
     },
     "execution_count": 204,
     "metadata": {},
     "output_type": "execute_result"
    }
   ],
   "source": [
    "df_monthly.groupby('State')['Customer Complaint'].count().max()"
   ]
  },
  {
   "cell_type": "markdown",
   "id": "eb3ccef1",
   "metadata": {},
   "source": [
    "Georgia has the maximum complaints"
   ]
  },
  {
   "cell_type": "markdown",
   "id": "d61f7fa3",
   "metadata": {},
   "source": [
    "**10. Group by states and see no of Open and Closed customer complaints**"
   ]
  },
  {
   "cell_type": "code",
   "execution_count": 100,
   "id": "649a7e08",
   "metadata": {},
   "outputs": [
    {
     "data": {
      "text/plain": [
       "State          Status\n",
       "Alabama        Closed    17\n",
       "               Open       9\n",
       "Arizona        Closed    14\n",
       "               Open       6\n",
       "Arkansas       Closed     6\n",
       "                         ..\n",
       "Virginia       Open      11\n",
       "Washington     Closed    75\n",
       "               Open      23\n",
       "West Virginia  Closed     8\n",
       "               Open       3\n",
       "Name: Ticket_No, Length: 77, dtype: int64"
      ]
     },
     "execution_count": 100,
     "metadata": {},
     "output_type": "execute_result"
    }
   ],
   "source": [
    "df_monthly.groupby(['State','Status'])['Ticket_No'].count()"
   ]
  },
  {
   "cell_type": "code",
   "execution_count": 101,
   "id": "109d944c",
   "metadata": {},
   "outputs": [],
   "source": [
    "df_complaints = df_monthly.groupby(['State','Status'])['Ticket_No'].count()"
   ]
  },
  {
   "cell_type": "code",
   "execution_count": 104,
   "id": "8917baee",
   "metadata": {},
   "outputs": [
    {
     "data": {
      "text/html": [
       "<div>\n",
       "<style scoped>\n",
       "    .dataframe tbody tr th:only-of-type {\n",
       "        vertical-align: middle;\n",
       "    }\n",
       "\n",
       "    .dataframe tbody tr th {\n",
       "        vertical-align: top;\n",
       "    }\n",
       "\n",
       "    .dataframe thead th {\n",
       "        text-align: right;\n",
       "    }\n",
       "</style>\n",
       "<table border=\"1\" class=\"dataframe\">\n",
       "  <thead>\n",
       "    <tr style=\"text-align: right;\">\n",
       "      <th>Status</th>\n",
       "      <th>Closed</th>\n",
       "      <th>Open</th>\n",
       "    </tr>\n",
       "    <tr>\n",
       "      <th>State</th>\n",
       "      <th></th>\n",
       "      <th></th>\n",
       "    </tr>\n",
       "  </thead>\n",
       "  <tbody>\n",
       "    <tr>\n",
       "      <th>Alabama</th>\n",
       "      <td>17</td>\n",
       "      <td>9</td>\n",
       "    </tr>\n",
       "    <tr>\n",
       "      <th>Arizona</th>\n",
       "      <td>14</td>\n",
       "      <td>6</td>\n",
       "    </tr>\n",
       "    <tr>\n",
       "      <th>Arkansas</th>\n",
       "      <td>6</td>\n",
       "      <td>0</td>\n",
       "    </tr>\n",
       "    <tr>\n",
       "      <th>California</th>\n",
       "      <td>159</td>\n",
       "      <td>61</td>\n",
       "    </tr>\n",
       "    <tr>\n",
       "      <th>Colorado</th>\n",
       "      <td>58</td>\n",
       "      <td>22</td>\n",
       "    </tr>\n",
       "    <tr>\n",
       "      <th>Connecticut</th>\n",
       "      <td>9</td>\n",
       "      <td>3</td>\n",
       "    </tr>\n",
       "    <tr>\n",
       "      <th>Delaware</th>\n",
       "      <td>8</td>\n",
       "      <td>4</td>\n",
       "    </tr>\n",
       "    <tr>\n",
       "      <th>District Of Columbia</th>\n",
       "      <td>14</td>\n",
       "      <td>2</td>\n",
       "    </tr>\n",
       "    <tr>\n",
       "      <th>District of Columbia</th>\n",
       "      <td>1</td>\n",
       "      <td>0</td>\n",
       "    </tr>\n",
       "    <tr>\n",
       "      <th>Florida</th>\n",
       "      <td>201</td>\n",
       "      <td>39</td>\n",
       "    </tr>\n",
       "    <tr>\n",
       "      <th>Georgia</th>\n",
       "      <td>208</td>\n",
       "      <td>80</td>\n",
       "    </tr>\n",
       "    <tr>\n",
       "      <th>Illinois</th>\n",
       "      <td>135</td>\n",
       "      <td>29</td>\n",
       "    </tr>\n",
       "    <tr>\n",
       "      <th>Indiana</th>\n",
       "      <td>50</td>\n",
       "      <td>9</td>\n",
       "    </tr>\n",
       "    <tr>\n",
       "      <th>Iowa</th>\n",
       "      <td>1</td>\n",
       "      <td>0</td>\n",
       "    </tr>\n",
       "    <tr>\n",
       "      <th>Kansas</th>\n",
       "      <td>1</td>\n",
       "      <td>1</td>\n",
       "    </tr>\n",
       "    <tr>\n",
       "      <th>Kentucky</th>\n",
       "      <td>4</td>\n",
       "      <td>3</td>\n",
       "    </tr>\n",
       "    <tr>\n",
       "      <th>Louisiana</th>\n",
       "      <td>12</td>\n",
       "      <td>1</td>\n",
       "    </tr>\n",
       "    <tr>\n",
       "      <th>Maine</th>\n",
       "      <td>3</td>\n",
       "      <td>2</td>\n",
       "    </tr>\n",
       "    <tr>\n",
       "      <th>Maryland</th>\n",
       "      <td>63</td>\n",
       "      <td>15</td>\n",
       "    </tr>\n",
       "    <tr>\n",
       "      <th>Massachusetts</th>\n",
       "      <td>50</td>\n",
       "      <td>11</td>\n",
       "    </tr>\n",
       "    <tr>\n",
       "      <th>Michigan</th>\n",
       "      <td>92</td>\n",
       "      <td>23</td>\n",
       "    </tr>\n",
       "    <tr>\n",
       "      <th>Minnesota</th>\n",
       "      <td>29</td>\n",
       "      <td>4</td>\n",
       "    </tr>\n",
       "    <tr>\n",
       "      <th>Mississippi</th>\n",
       "      <td>23</td>\n",
       "      <td>16</td>\n",
       "    </tr>\n",
       "    <tr>\n",
       "      <th>Missouri</th>\n",
       "      <td>3</td>\n",
       "      <td>1</td>\n",
       "    </tr>\n",
       "    <tr>\n",
       "      <th>Montana</th>\n",
       "      <td>1</td>\n",
       "      <td>0</td>\n",
       "    </tr>\n",
       "    <tr>\n",
       "      <th>Nevada</th>\n",
       "      <td>1</td>\n",
       "      <td>0</td>\n",
       "    </tr>\n",
       "    <tr>\n",
       "      <th>New Hampshire</th>\n",
       "      <td>8</td>\n",
       "      <td>4</td>\n",
       "    </tr>\n",
       "    <tr>\n",
       "      <th>New Jersey</th>\n",
       "      <td>56</td>\n",
       "      <td>19</td>\n",
       "    </tr>\n",
       "    <tr>\n",
       "      <th>New Mexico</th>\n",
       "      <td>11</td>\n",
       "      <td>4</td>\n",
       "    </tr>\n",
       "    <tr>\n",
       "      <th>New York</th>\n",
       "      <td>6</td>\n",
       "      <td>0</td>\n",
       "    </tr>\n",
       "    <tr>\n",
       "      <th>North Carolina</th>\n",
       "      <td>3</td>\n",
       "      <td>0</td>\n",
       "    </tr>\n",
       "    <tr>\n",
       "      <th>Ohio</th>\n",
       "      <td>3</td>\n",
       "      <td>0</td>\n",
       "    </tr>\n",
       "    <tr>\n",
       "      <th>Oregon</th>\n",
       "      <td>36</td>\n",
       "      <td>13</td>\n",
       "    </tr>\n",
       "    <tr>\n",
       "      <th>Pennsylvania</th>\n",
       "      <td>110</td>\n",
       "      <td>20</td>\n",
       "    </tr>\n",
       "    <tr>\n",
       "      <th>Rhode Island</th>\n",
       "      <td>1</td>\n",
       "      <td>0</td>\n",
       "    </tr>\n",
       "    <tr>\n",
       "      <th>South Carolina</th>\n",
       "      <td>15</td>\n",
       "      <td>3</td>\n",
       "    </tr>\n",
       "    <tr>\n",
       "      <th>Tennessee</th>\n",
       "      <td>96</td>\n",
       "      <td>47</td>\n",
       "    </tr>\n",
       "    <tr>\n",
       "      <th>Texas</th>\n",
       "      <td>49</td>\n",
       "      <td>22</td>\n",
       "    </tr>\n",
       "    <tr>\n",
       "      <th>Utah</th>\n",
       "      <td>16</td>\n",
       "      <td>6</td>\n",
       "    </tr>\n",
       "    <tr>\n",
       "      <th>Vermont</th>\n",
       "      <td>2</td>\n",
       "      <td>1</td>\n",
       "    </tr>\n",
       "    <tr>\n",
       "      <th>Virginia</th>\n",
       "      <td>49</td>\n",
       "      <td>11</td>\n",
       "    </tr>\n",
       "    <tr>\n",
       "      <th>Washington</th>\n",
       "      <td>75</td>\n",
       "      <td>23</td>\n",
       "    </tr>\n",
       "    <tr>\n",
       "      <th>West Virginia</th>\n",
       "      <td>8</td>\n",
       "      <td>3</td>\n",
       "    </tr>\n",
       "  </tbody>\n",
       "</table>\n",
       "</div>"
      ],
      "text/plain": [
       "Status                Closed  Open\n",
       "State                             \n",
       "Alabama                   17     9\n",
       "Arizona                   14     6\n",
       "Arkansas                   6     0\n",
       "California               159    61\n",
       "Colorado                  58    22\n",
       "Connecticut                9     3\n",
       "Delaware                   8     4\n",
       "District Of Columbia      14     2\n",
       "District of Columbia       1     0\n",
       "Florida                  201    39\n",
       "Georgia                  208    80\n",
       "Illinois                 135    29\n",
       "Indiana                   50     9\n",
       "Iowa                       1     0\n",
       "Kansas                     1     1\n",
       "Kentucky                   4     3\n",
       "Louisiana                 12     1\n",
       "Maine                      3     2\n",
       "Maryland                  63    15\n",
       "Massachusetts             50    11\n",
       "Michigan                  92    23\n",
       "Minnesota                 29     4\n",
       "Mississippi               23    16\n",
       "Missouri                   3     1\n",
       "Montana                    1     0\n",
       "Nevada                     1     0\n",
       "New Hampshire              8     4\n",
       "New Jersey                56    19\n",
       "New Mexico                11     4\n",
       "New York                   6     0\n",
       "North Carolina             3     0\n",
       "Ohio                       3     0\n",
       "Oregon                    36    13\n",
       "Pennsylvania             110    20\n",
       "Rhode Island               1     0\n",
       "South Carolina            15     3\n",
       "Tennessee                 96    47\n",
       "Texas                     49    22\n",
       "Utah                      16     6\n",
       "Vermont                    2     1\n",
       "Virginia                  49    11\n",
       "Washington                75    23\n",
       "West Virginia              8     3"
      ]
     },
     "execution_count": 104,
     "metadata": {},
     "output_type": "execute_result"
    }
   ],
   "source": [
    "pd.crosstab(df_monthly.State,df_monthly.Status)"
   ]
  },
  {
   "cell_type": "markdown",
   "id": "d02ac5f0",
   "metadata": {},
   "source": [
    "**11. Calculate the percentage of complaints resolved till date, which were received through the Internet and customer care calls**"
   ]
  },
  {
   "cell_type": "code",
   "execution_count": 208,
   "id": "badf9168",
   "metadata": {},
   "outputs": [],
   "source": [
    "df_percent[\"Percentage\"] = df_percent['Open']/(df_percent['Open']+df_percent['Closed'])*100"
   ]
  },
  {
   "cell_type": "code",
   "execution_count": 209,
   "id": "556e1012",
   "metadata": {},
   "outputs": [
    {
     "data": {
      "text/html": [
       "<div>\n",
       "<style scoped>\n",
       "    .dataframe tbody tr th:only-of-type {\n",
       "        vertical-align: middle;\n",
       "    }\n",
       "\n",
       "    .dataframe tbody tr th {\n",
       "        vertical-align: top;\n",
       "    }\n",
       "\n",
       "    .dataframe thead th {\n",
       "        text-align: right;\n",
       "    }\n",
       "</style>\n",
       "<table border=\"1\" class=\"dataframe\">\n",
       "  <thead>\n",
       "    <tr style=\"text-align: right;\">\n",
       "      <th>Status</th>\n",
       "      <th>Closed</th>\n",
       "      <th>Open</th>\n",
       "      <th>Percentage</th>\n",
       "    </tr>\n",
       "    <tr>\n",
       "      <th>State</th>\n",
       "      <th></th>\n",
       "      <th></th>\n",
       "      <th></th>\n",
       "    </tr>\n",
       "  </thead>\n",
       "  <tbody>\n",
       "    <tr>\n",
       "      <th>Alabama</th>\n",
       "      <td>17</td>\n",
       "      <td>9</td>\n",
       "      <td>34.615385</td>\n",
       "    </tr>\n",
       "    <tr>\n",
       "      <th>Arizona</th>\n",
       "      <td>14</td>\n",
       "      <td>6</td>\n",
       "      <td>30.000000</td>\n",
       "    </tr>\n",
       "    <tr>\n",
       "      <th>Arkansas</th>\n",
       "      <td>6</td>\n",
       "      <td>0</td>\n",
       "      <td>0.000000</td>\n",
       "    </tr>\n",
       "    <tr>\n",
       "      <th>California</th>\n",
       "      <td>159</td>\n",
       "      <td>61</td>\n",
       "      <td>27.727273</td>\n",
       "    </tr>\n",
       "    <tr>\n",
       "      <th>Colorado</th>\n",
       "      <td>58</td>\n",
       "      <td>22</td>\n",
       "      <td>27.500000</td>\n",
       "    </tr>\n",
       "    <tr>\n",
       "      <th>Connecticut</th>\n",
       "      <td>9</td>\n",
       "      <td>3</td>\n",
       "      <td>25.000000</td>\n",
       "    </tr>\n",
       "    <tr>\n",
       "      <th>Delaware</th>\n",
       "      <td>8</td>\n",
       "      <td>4</td>\n",
       "      <td>33.333333</td>\n",
       "    </tr>\n",
       "    <tr>\n",
       "      <th>District Of Columbia</th>\n",
       "      <td>14</td>\n",
       "      <td>2</td>\n",
       "      <td>12.500000</td>\n",
       "    </tr>\n",
       "    <tr>\n",
       "      <th>District of Columbia</th>\n",
       "      <td>1</td>\n",
       "      <td>0</td>\n",
       "      <td>0.000000</td>\n",
       "    </tr>\n",
       "    <tr>\n",
       "      <th>Florida</th>\n",
       "      <td>201</td>\n",
       "      <td>39</td>\n",
       "      <td>16.250000</td>\n",
       "    </tr>\n",
       "    <tr>\n",
       "      <th>Georgia</th>\n",
       "      <td>208</td>\n",
       "      <td>80</td>\n",
       "      <td>27.777778</td>\n",
       "    </tr>\n",
       "    <tr>\n",
       "      <th>Illinois</th>\n",
       "      <td>135</td>\n",
       "      <td>29</td>\n",
       "      <td>17.682927</td>\n",
       "    </tr>\n",
       "    <tr>\n",
       "      <th>Indiana</th>\n",
       "      <td>50</td>\n",
       "      <td>9</td>\n",
       "      <td>15.254237</td>\n",
       "    </tr>\n",
       "    <tr>\n",
       "      <th>Iowa</th>\n",
       "      <td>1</td>\n",
       "      <td>0</td>\n",
       "      <td>0.000000</td>\n",
       "    </tr>\n",
       "    <tr>\n",
       "      <th>Kansas</th>\n",
       "      <td>1</td>\n",
       "      <td>1</td>\n",
       "      <td>50.000000</td>\n",
       "    </tr>\n",
       "    <tr>\n",
       "      <th>Kentucky</th>\n",
       "      <td>4</td>\n",
       "      <td>3</td>\n",
       "      <td>42.857143</td>\n",
       "    </tr>\n",
       "    <tr>\n",
       "      <th>Louisiana</th>\n",
       "      <td>12</td>\n",
       "      <td>1</td>\n",
       "      <td>7.692308</td>\n",
       "    </tr>\n",
       "    <tr>\n",
       "      <th>Maine</th>\n",
       "      <td>3</td>\n",
       "      <td>2</td>\n",
       "      <td>40.000000</td>\n",
       "    </tr>\n",
       "    <tr>\n",
       "      <th>Maryland</th>\n",
       "      <td>63</td>\n",
       "      <td>15</td>\n",
       "      <td>19.230769</td>\n",
       "    </tr>\n",
       "    <tr>\n",
       "      <th>Massachusetts</th>\n",
       "      <td>50</td>\n",
       "      <td>11</td>\n",
       "      <td>18.032787</td>\n",
       "    </tr>\n",
       "    <tr>\n",
       "      <th>Michigan</th>\n",
       "      <td>92</td>\n",
       "      <td>23</td>\n",
       "      <td>20.000000</td>\n",
       "    </tr>\n",
       "    <tr>\n",
       "      <th>Minnesota</th>\n",
       "      <td>29</td>\n",
       "      <td>4</td>\n",
       "      <td>12.121212</td>\n",
       "    </tr>\n",
       "    <tr>\n",
       "      <th>Mississippi</th>\n",
       "      <td>23</td>\n",
       "      <td>16</td>\n",
       "      <td>41.025641</td>\n",
       "    </tr>\n",
       "    <tr>\n",
       "      <th>Missouri</th>\n",
       "      <td>3</td>\n",
       "      <td>1</td>\n",
       "      <td>25.000000</td>\n",
       "    </tr>\n",
       "    <tr>\n",
       "      <th>Montana</th>\n",
       "      <td>1</td>\n",
       "      <td>0</td>\n",
       "      <td>0.000000</td>\n",
       "    </tr>\n",
       "    <tr>\n",
       "      <th>Nevada</th>\n",
       "      <td>1</td>\n",
       "      <td>0</td>\n",
       "      <td>0.000000</td>\n",
       "    </tr>\n",
       "    <tr>\n",
       "      <th>New Hampshire</th>\n",
       "      <td>8</td>\n",
       "      <td>4</td>\n",
       "      <td>33.333333</td>\n",
       "    </tr>\n",
       "    <tr>\n",
       "      <th>New Jersey</th>\n",
       "      <td>56</td>\n",
       "      <td>19</td>\n",
       "      <td>25.333333</td>\n",
       "    </tr>\n",
       "    <tr>\n",
       "      <th>New Mexico</th>\n",
       "      <td>11</td>\n",
       "      <td>4</td>\n",
       "      <td>26.666667</td>\n",
       "    </tr>\n",
       "    <tr>\n",
       "      <th>New York</th>\n",
       "      <td>6</td>\n",
       "      <td>0</td>\n",
       "      <td>0.000000</td>\n",
       "    </tr>\n",
       "    <tr>\n",
       "      <th>North Carolina</th>\n",
       "      <td>3</td>\n",
       "      <td>0</td>\n",
       "      <td>0.000000</td>\n",
       "    </tr>\n",
       "    <tr>\n",
       "      <th>Ohio</th>\n",
       "      <td>3</td>\n",
       "      <td>0</td>\n",
       "      <td>0.000000</td>\n",
       "    </tr>\n",
       "    <tr>\n",
       "      <th>Oregon</th>\n",
       "      <td>36</td>\n",
       "      <td>13</td>\n",
       "      <td>26.530612</td>\n",
       "    </tr>\n",
       "    <tr>\n",
       "      <th>Pennsylvania</th>\n",
       "      <td>110</td>\n",
       "      <td>20</td>\n",
       "      <td>15.384615</td>\n",
       "    </tr>\n",
       "    <tr>\n",
       "      <th>Rhode Island</th>\n",
       "      <td>1</td>\n",
       "      <td>0</td>\n",
       "      <td>0.000000</td>\n",
       "    </tr>\n",
       "    <tr>\n",
       "      <th>South Carolina</th>\n",
       "      <td>15</td>\n",
       "      <td>3</td>\n",
       "      <td>16.666667</td>\n",
       "    </tr>\n",
       "    <tr>\n",
       "      <th>Tennessee</th>\n",
       "      <td>96</td>\n",
       "      <td>47</td>\n",
       "      <td>32.867133</td>\n",
       "    </tr>\n",
       "    <tr>\n",
       "      <th>Texas</th>\n",
       "      <td>49</td>\n",
       "      <td>22</td>\n",
       "      <td>30.985915</td>\n",
       "    </tr>\n",
       "    <tr>\n",
       "      <th>Utah</th>\n",
       "      <td>16</td>\n",
       "      <td>6</td>\n",
       "      <td>27.272727</td>\n",
       "    </tr>\n",
       "    <tr>\n",
       "      <th>Vermont</th>\n",
       "      <td>2</td>\n",
       "      <td>1</td>\n",
       "      <td>33.333333</td>\n",
       "    </tr>\n",
       "    <tr>\n",
       "      <th>Virginia</th>\n",
       "      <td>49</td>\n",
       "      <td>11</td>\n",
       "      <td>18.333333</td>\n",
       "    </tr>\n",
       "    <tr>\n",
       "      <th>Washington</th>\n",
       "      <td>75</td>\n",
       "      <td>23</td>\n",
       "      <td>23.469388</td>\n",
       "    </tr>\n",
       "    <tr>\n",
       "      <th>West Virginia</th>\n",
       "      <td>8</td>\n",
       "      <td>3</td>\n",
       "      <td>27.272727</td>\n",
       "    </tr>\n",
       "  </tbody>\n",
       "</table>\n",
       "</div>"
      ],
      "text/plain": [
       "Status                Closed  Open  Percentage\n",
       "State                                         \n",
       "Alabama                   17     9   34.615385\n",
       "Arizona                   14     6   30.000000\n",
       "Arkansas                   6     0    0.000000\n",
       "California               159    61   27.727273\n",
       "Colorado                  58    22   27.500000\n",
       "Connecticut                9     3   25.000000\n",
       "Delaware                   8     4   33.333333\n",
       "District Of Columbia      14     2   12.500000\n",
       "District of Columbia       1     0    0.000000\n",
       "Florida                  201    39   16.250000\n",
       "Georgia                  208    80   27.777778\n",
       "Illinois                 135    29   17.682927\n",
       "Indiana                   50     9   15.254237\n",
       "Iowa                       1     0    0.000000\n",
       "Kansas                     1     1   50.000000\n",
       "Kentucky                   4     3   42.857143\n",
       "Louisiana                 12     1    7.692308\n",
       "Maine                      3     2   40.000000\n",
       "Maryland                  63    15   19.230769\n",
       "Massachusetts             50    11   18.032787\n",
       "Michigan                  92    23   20.000000\n",
       "Minnesota                 29     4   12.121212\n",
       "Mississippi               23    16   41.025641\n",
       "Missouri                   3     1   25.000000\n",
       "Montana                    1     0    0.000000\n",
       "Nevada                     1     0    0.000000\n",
       "New Hampshire              8     4   33.333333\n",
       "New Jersey                56    19   25.333333\n",
       "New Mexico                11     4   26.666667\n",
       "New York                   6     0    0.000000\n",
       "North Carolina             3     0    0.000000\n",
       "Ohio                       3     0    0.000000\n",
       "Oregon                    36    13   26.530612\n",
       "Pennsylvania             110    20   15.384615\n",
       "Rhode Island               1     0    0.000000\n",
       "South Carolina            15     3   16.666667\n",
       "Tennessee                 96    47   32.867133\n",
       "Texas                     49    22   30.985915\n",
       "Utah                      16     6   27.272727\n",
       "Vermont                    2     1   33.333333\n",
       "Virginia                  49    11   18.333333\n",
       "Washington                75    23   23.469388\n",
       "West Virginia              8     3   27.272727"
      ]
     },
     "execution_count": 209,
     "metadata": {},
     "output_type": "execute_result"
    }
   ],
   "source": [
    "df_percent"
   ]
  },
  {
   "cell_type": "code",
   "execution_count": 121,
   "id": "9142d3cc",
   "metadata": {},
   "outputs": [
    {
     "data": {
      "text/plain": [
       "50.0"
      ]
     },
     "execution_count": 121,
     "metadata": {},
     "output_type": "execute_result"
    }
   ],
   "source": [
    "df_percent['Percentage'].max()"
   ]
  },
  {
   "cell_type": "code",
   "execution_count": 212,
   "id": "112f505c",
   "metadata": {},
   "outputs": [
    {
     "data": {
      "text/plain": [
       "80"
      ]
     },
     "execution_count": 212,
     "metadata": {},
     "output_type": "execute_result"
    }
   ],
   "source": [
    "df_percent['Open'].max()"
   ]
  },
  {
   "cell_type": "markdown",
   "id": "090a90d8",
   "metadata": {},
   "source": [
    "Kansas has the heighest percentage of Unresolved complaints while Georgia has the heighest no. of unresolved complaints"
   ]
  },
  {
   "cell_type": "markdown",
   "id": "6605fc13",
   "metadata": {},
   "source": [
    "**12. Plot the percentage of complaints resolved till date, which were received through the Internet and customer care calls**"
   ]
  },
  {
   "cell_type": "code",
   "execution_count": 117,
   "id": "c276e009",
   "metadata": {},
   "outputs": [
    {
     "data": {
      "text/plain": [
       "array(['Customer Care Call', 'Internet'], dtype=object)"
      ]
     },
     "execution_count": 117,
     "metadata": {},
     "output_type": "execute_result"
    }
   ],
   "source": [
    "df_monthly['Received Via'].unique()"
   ]
  },
  {
   "cell_type": "markdown",
   "id": "b6f34037",
   "metadata": {},
   "source": [
    "All the complaints were received from Customer care call and Internet"
   ]
  },
  {
   "cell_type": "code",
   "execution_count": 122,
   "id": "9b0cc70a",
   "metadata": {},
   "outputs": [
    {
     "data": {
      "text/plain": [
       "Closed    1707\n",
       "Open       517\n",
       "Name: Status, dtype: int64"
      ]
     },
     "execution_count": 122,
     "metadata": {},
     "output_type": "execute_result"
    }
   ],
   "source": [
    "df_monthly.Status.value_counts()"
   ]
  },
  {
   "cell_type": "code",
   "execution_count": 124,
   "id": "bed2f6cf",
   "metadata": {},
   "outputs": [
    {
     "data": {
      "text/plain": [
       "<AxesSubplot:title={'center':'Complaints Status through the Internet & Customer Care Calls'}, ylabel='Status'>"
      ]
     },
     "execution_count": 124,
     "metadata": {},
     "output_type": "execute_result"
    },
    {
     "data": {
      "image/png": "[encoded data removed]",
      "text/plain": [
       "<Figure size 1008x432 with 1 Axes>"
      ]
     },
     "metadata": {},
     "output_type": "display_data"
    }
   ],
   "source": [
    "myexplode = [0.2, 0]\n",
    "plt.title('Complaints Status through the Internet & Customer Care Calls')\n",
    "df_monthly.Status.value_counts().plot(kind='pie',explode = myexplode,autopct='%1.1f%%',figsize = (14,6))"
   ]
  }
 ],
 "metadata": {
  "kernelspec": {
   "display_name": "Python 3 (ipykernel)",
   "language": "python",
   "name": "python3"
  },
  "language_info": {
   "codemirror_mode": {
    "name": "ipython",
    "version": 3
   },
   "file_extension": ".py",
   "mimetype": "text/x-python",
   "name": "python",
   "nbconvert_exporter": "python",
   "pygments_lexer": "ipython3",
   "version": "3.9.12"
  }
 },
 "nbformat": 4,
 "nbformat_minor": 5
}
